{
 "cells": [
  {
   "cell_type": "markdown",
   "id": "0610423c-f7af-4282-b004-e09dd8d5dd19",
   "metadata": {},
   "source": [
    "# print function"
   ]
  },
  {
   "cell_type": "markdown",
   "id": "631645f2-a33b-44fd-8a79-f8cb4ee7f997",
   "metadata": {},
   "source": [
    "- Print is a inbuilt function <br>\n",
    "- Used to print value in a terminal<br>\n",
    "- To see information about inbuilt function place a cursor after function name and press shift + tab\n"
   ]
  },
  {
   "cell_type": "code",
   "execution_count": 13,
   "id": "a4d00a57-ef8d-43eb-8721-276b09a66766",
   "metadata": {},
   "outputs": [
    {
     "name": "stdout",
     "output_type": "stream",
     "text": [
      "Hello World\n"
     ]
    }
   ],
   "source": [
    "print(\"Hello World\")"
   ]
  },
  {
   "cell_type": "markdown",
   "id": "731072e4-a9fd-4fe9-80f0-693e68af351b",
   "metadata": {},
   "source": [
    "--> Differance bw 1+3 output and print(1+3) output"
   ]
  },
  {
   "cell_type": "markdown",
   "id": "2b973db6-a179-4131-a7ab-4c8cf411ebd4",
   "metadata": {},
   "source": [
    "When we excute 1+3 expression its output is shown in new cell"
   ]
  },
  {
   "cell_type": "code",
   "execution_count": null,
   "id": "a2a9c850-ea80-4f34-8341-8539d654c4bd",
   "metadata": {},
   "outputs": [
    {
     "data": {
      "text/plain": [
       "4"
      ]
     },
     "execution_count": 1,
     "metadata": {},
     "output_type": "execute_result"
    }
   ],
   "source": [
    "1+3"
   ]
  },
  {
   "cell_type": "markdown",
   "id": "55b19daf-4cf4-4964-96d2-cbf49558f9e1",
   "metadata": {},
   "source": [
    "But when we excute this statement in print its output shown in output terminal"
   ]
  },
  {
   "cell_type": "code",
   "execution_count": null,
   "id": "6a7e1b7a-81c4-46de-82f8-4d0d9d2912e4",
   "metadata": {},
   "outputs": [
    {
     "name": "stdout",
     "output_type": "stream",
     "text": [
      "4\n"
     ]
    }
   ],
   "source": [
    "print(1+3)"
   ]
  },
  {
   "cell_type": "markdown",
   "id": "22bfc94d-cae3-470d-bdec-2ee4f47faea9",
   "metadata": {},
   "source": [
    "--> To print in a multiline in console there are two methods-"
   ]
  },
  {
   "cell_type": "markdown",
   "id": "f4079a60-930d-4820-b862-0009d092aa22",
   "metadata": {},
   "source": [
    "1. Escape Character- \\n "
   ]
  },
  {
   "cell_type": "code",
   "execution_count": 11,
   "id": "a59365b3-2534-4eae-b786-0a55cd5820df",
   "metadata": {},
   "outputs": [
    {
     "name": "stdout",
     "output_type": "stream",
     "text": [
      "Hello world \n",
      "My name is Kishor\n"
     ]
    }
   ],
   "source": [
    "print(\"Hello world \\nMy name is Kishor\")"
   ]
  },
  {
   "cell_type": "markdown",
   "id": "f6efaa5e-ed5f-416c-a1fc-f4c5e26026ab",
   "metadata": {},
   "source": [
    "2. docs String (Triple quotes)"
   ]
  },
  {
   "cell_type": "code",
   "execution_count": 9,
   "id": "127bdfb5-1a0b-408a-bd46-8df9f1bb14b8",
   "metadata": {},
   "outputs": [
    {
     "name": "stdout",
     "output_type": "stream",
     "text": [
      "Hello world \n",
      "My name is Kishor\n"
     ]
    }
   ],
   "source": [
    "print(\"\"\"Hello world \n",
    "My name is Kishor\"\"\")"
   ]
  },
  {
   "cell_type": "code",
   "execution_count": null,
   "id": "140d7605-a6c0-4e5c-bd96-4f713f64abbd",
   "metadata": {},
   "outputs": [],
   "source": []
  }
 ],
 "metadata": {
  "kernelspec": {
   "display_name": "Python 3 (ipykernel)",
   "language": "python",
   "name": "python3"
  },
  "language_info": {
   "codemirror_mode": {
    "name": "ipython",
    "version": 3
   },
   "file_extension": ".py",
   "mimetype": "text/x-python",
   "name": "python",
   "nbconvert_exporter": "python",
   "pygments_lexer": "ipython3",
   "version": "3.10.6"
  }
 },
 "nbformat": 4,
 "nbformat_minor": 5
}
